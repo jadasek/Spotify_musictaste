{
 "cells": [
  {
   "cell_type": "code",
   "execution_count": 1,
   "id": "ac0ec122",
   "metadata": {},
   "outputs": [
    {
     "name": "stdout",
     "output_type": "stream",
     "text": [
      "['c:\\\\Users\\\\tymot\\\\OneDrive\\\\Studia\\\\Semestr 5\\\\Analiza danych\\\\Projekt', 'c:\\\\Users\\\\tymot\\\\anaconda3\\\\python39.zip', 'c:\\\\Users\\\\tymot\\\\anaconda3\\\\DLLs', 'c:\\\\Users\\\\tymot\\\\anaconda3\\\\lib', 'c:\\\\Users\\\\tymot\\\\anaconda3', '', 'c:\\\\Users\\\\tymot\\\\anaconda3\\\\lib\\\\site-packages', 'c:\\\\Users\\\\tymot\\\\anaconda3\\\\lib\\\\site-packages\\\\win32', 'c:\\\\Users\\\\tymot\\\\anaconda3\\\\lib\\\\site-packages\\\\win32\\\\lib', 'c:\\\\Users\\\\tymot\\\\anaconda3\\\\lib\\\\site-packages\\\\Pythonwin']\n"
     ]
    }
   ],
   "source": [
    "import numpy as np\n",
    "import pandas as pd\n",
    "import sys\n",
    "from matplotlib import pyplot as plt\n",
    "import seaborn as sns\n",
    "from sklearn.preprocessing import StandardScaler,MinMaxScaler\n",
    "from sklearn.model_selection import train_test_split\n",
    "from tensorflow import keras\n",
    "from sklearn.metrics import classification_report,confusion_matrix\n",
    "from sklearn.preprocessing import LabelEncoder"
   ]
  },
  {
   "cell_type": "code",
   "execution_count": 2,
   "id": "58026060",
   "metadata": {},
   "outputs": [
    {
     "data": {
      "text/html": [
       "<div>\n",
       "<style scoped>\n",
       "    .dataframe tbody tr th:only-of-type {\n",
       "        vertical-align: middle;\n",
       "    }\n",
       "\n",
       "    .dataframe tbody tr th {\n",
       "        vertical-align: top;\n",
       "    }\n",
       "\n",
       "    .dataframe thead th {\n",
       "        text-align: right;\n",
       "    }\n",
       "</style>\n",
       "<table border=\"1\" class=\"dataframe\">\n",
       "  <thead>\n",
       "    <tr style=\"text-align: right;\">\n",
       "      <th></th>\n",
       "      <th>danceability</th>\n",
       "      <th>energy</th>\n",
       "      <th>key</th>\n",
       "      <th>loudness</th>\n",
       "      <th>mode</th>\n",
       "      <th>speechiness</th>\n",
       "      <th>acousticness</th>\n",
       "      <th>instrumentalness</th>\n",
       "      <th>liveness</th>\n",
       "      <th>valence</th>\n",
       "      <th>tempo</th>\n",
       "      <th>duration_ms</th>\n",
       "      <th>liked</th>\n",
       "    </tr>\n",
       "  </thead>\n",
       "  <tbody>\n",
       "    <tr>\n",
       "      <th>0</th>\n",
       "      <td>0.803</td>\n",
       "      <td>0.6240</td>\n",
       "      <td>7</td>\n",
       "      <td>-6.764</td>\n",
       "      <td>0</td>\n",
       "      <td>0.0477</td>\n",
       "      <td>0.451</td>\n",
       "      <td>0.000734</td>\n",
       "      <td>0.1000</td>\n",
       "      <td>0.6280</td>\n",
       "      <td>95.968</td>\n",
       "      <td>304524</td>\n",
       "      <td>0</td>\n",
       "    </tr>\n",
       "    <tr>\n",
       "      <th>1</th>\n",
       "      <td>0.762</td>\n",
       "      <td>0.7030</td>\n",
       "      <td>10</td>\n",
       "      <td>-7.951</td>\n",
       "      <td>0</td>\n",
       "      <td>0.3060</td>\n",
       "      <td>0.206</td>\n",
       "      <td>0.000000</td>\n",
       "      <td>0.0912</td>\n",
       "      <td>0.5190</td>\n",
       "      <td>151.329</td>\n",
       "      <td>247178</td>\n",
       "      <td>1</td>\n",
       "    </tr>\n",
       "    <tr>\n",
       "      <th>2</th>\n",
       "      <td>0.261</td>\n",
       "      <td>0.0149</td>\n",
       "      <td>1</td>\n",
       "      <td>-27.528</td>\n",
       "      <td>1</td>\n",
       "      <td>0.0419</td>\n",
       "      <td>0.992</td>\n",
       "      <td>0.897000</td>\n",
       "      <td>0.1020</td>\n",
       "      <td>0.0382</td>\n",
       "      <td>75.296</td>\n",
       "      <td>286987</td>\n",
       "      <td>0</td>\n",
       "    </tr>\n",
       "    <tr>\n",
       "      <th>3</th>\n",
       "      <td>0.722</td>\n",
       "      <td>0.7360</td>\n",
       "      <td>3</td>\n",
       "      <td>-6.994</td>\n",
       "      <td>0</td>\n",
       "      <td>0.0585</td>\n",
       "      <td>0.431</td>\n",
       "      <td>0.000001</td>\n",
       "      <td>0.1230</td>\n",
       "      <td>0.5820</td>\n",
       "      <td>89.860</td>\n",
       "      <td>208920</td>\n",
       "      <td>1</td>\n",
       "    </tr>\n",
       "    <tr>\n",
       "      <th>4</th>\n",
       "      <td>0.787</td>\n",
       "      <td>0.5720</td>\n",
       "      <td>1</td>\n",
       "      <td>-7.516</td>\n",
       "      <td>1</td>\n",
       "      <td>0.2220</td>\n",
       "      <td>0.145</td>\n",
       "      <td>0.000000</td>\n",
       "      <td>0.0753</td>\n",
       "      <td>0.6470</td>\n",
       "      <td>155.117</td>\n",
       "      <td>179413</td>\n",
       "      <td>1</td>\n",
       "    </tr>\n",
       "  </tbody>\n",
       "</table>\n",
       "</div>"
      ],
      "text/plain": [
       "   danceability  energy  key  loudness  mode  speechiness  acousticness  \\\n",
       "0         0.803  0.6240    7    -6.764     0       0.0477         0.451   \n",
       "1         0.762  0.7030   10    -7.951     0       0.3060         0.206   \n",
       "2         0.261  0.0149    1   -27.528     1       0.0419         0.992   \n",
       "3         0.722  0.7360    3    -6.994     0       0.0585         0.431   \n",
       "4         0.787  0.5720    1    -7.516     1       0.2220         0.145   \n",
       "\n",
       "   instrumentalness  liveness  valence    tempo  duration_ms  liked  \n",
       "0          0.000734    0.1000   0.6280   95.968       304524      0  \n",
       "1          0.000000    0.0912   0.5190  151.329       247178      1  \n",
       "2          0.897000    0.1020   0.0382   75.296       286987      0  \n",
       "3          0.000001    0.1230   0.5820   89.860       208920      1  \n",
       "4          0.000000    0.0753   0.6470  155.117       179413      1  "
      ]
     },
     "execution_count": 2,
     "metadata": {},
     "output_type": "execute_result"
    }
   ],
   "source": [
    "df = pd.read_excel('aaa.xlsx')\n",
    "#df = pd.read_csv('data.csv')\n",
    "#df = df.drop(columns=['genre','artist_name','track_name','track_id','popularity','time_signature'],axis=1)\n",
    "df = df.drop(columns=['time_signature'],axis=1)\n",
    "\n",
    "encoder = LabelEncoder()\n",
    "\n",
    "df['key'] = encoder.fit_transform(df['key'])\n",
    "df['mode']=encoder.fit_transform(df['mode'])\n",
    "df.shape\n",
    "df.head()"
   ]
  },
  {
   "cell_type": "code",
   "execution_count": 9,
   "id": "5185d698",
   "metadata": {},
   "outputs": [],
   "source": [
    "std = StandardScaler()\n",
    "scalled = std.fit_transform(df.drop(['liked'],axis=1))"
   ]
  },
  {
   "cell_type": "code",
   "execution_count": 10,
   "id": "fdc7f46b",
   "metadata": {},
   "outputs": [],
   "source": [
    "i = 0 \n",
    "#podmień wszystkie wartości na wartości znormalizowane\n",
    "for column in df.columns[:-1]:\n",
    "    df[column] = scalled[:,i]\n",
    "    i += 1"
   ]
  },
  {
   "cell_type": "code",
   "execution_count": 11,
   "id": "6c0dbd15",
   "metadata": {},
   "outputs": [
    {
     "data": {
      "text/html": [
       "<div>\n",
       "<style scoped>\n",
       "    .dataframe tbody tr th:only-of-type {\n",
       "        vertical-align: middle;\n",
       "    }\n",
       "\n",
       "    .dataframe tbody tr th {\n",
       "        vertical-align: top;\n",
       "    }\n",
       "\n",
       "    .dataframe thead th {\n",
       "        text-align: right;\n",
       "    }\n",
       "</style>\n",
       "<table border=\"1\" class=\"dataframe\">\n",
       "  <thead>\n",
       "    <tr style=\"text-align: right;\">\n",
       "      <th></th>\n",
       "      <th>danceability</th>\n",
       "      <th>energy</th>\n",
       "      <th>key</th>\n",
       "      <th>loudness</th>\n",
       "      <th>mode</th>\n",
       "      <th>speechiness</th>\n",
       "      <th>acousticness</th>\n",
       "      <th>instrumentalness</th>\n",
       "      <th>liveness</th>\n",
       "      <th>valence</th>\n",
       "      <th>tempo</th>\n",
       "      <th>duration_ms</th>\n",
       "      <th>liked</th>\n",
       "    </tr>\n",
       "  </thead>\n",
       "  <tbody>\n",
       "    <tr>\n",
       "      <th>0</th>\n",
       "      <td>0.769903</td>\n",
       "      <td>-0.055628</td>\n",
       "      <td>0.441095</td>\n",
       "      <td>0.417562</td>\n",
       "      <td>-1.080123</td>\n",
       "      <td>-0.843078</td>\n",
       "      <td>0.412263</td>\n",
       "      <td>-0.554830</td>\n",
       "      <td>-0.458413</td>\n",
       "      <td>0.503237</td>\n",
       "      <td>-0.896670</td>\n",
       "      <td>1.266065</td>\n",
       "      <td>0</td>\n",
       "    </tr>\n",
       "    <tr>\n",
       "      <th>1</th>\n",
       "      <td>0.580139</td>\n",
       "      <td>0.248888</td>\n",
       "      <td>1.321780</td>\n",
       "      <td>0.235180</td>\n",
       "      <td>-1.080123</td>\n",
       "      <td>1.307549</td>\n",
       "      <td>-0.353462</td>\n",
       "      <td>-0.556955</td>\n",
       "      <td>-0.541666</td>\n",
       "      <td>0.095009</td>\n",
       "      <td>1.079610</td>\n",
       "      <td>0.469229</td>\n",
       "      <td>1</td>\n",
       "    </tr>\n",
       "    <tr>\n",
       "      <th>2</th>\n",
       "      <td>-1.738685</td>\n",
       "      <td>-2.403485</td>\n",
       "      <td>-1.320274</td>\n",
       "      <td>-2.772810</td>\n",
       "      <td>0.925820</td>\n",
       "      <td>-0.891369</td>\n",
       "      <td>2.103110</td>\n",
       "      <td>2.040507</td>\n",
       "      <td>-0.439492</td>\n",
       "      <td>-1.705687</td>\n",
       "      <td>-1.634621</td>\n",
       "      <td>1.022384</td>\n",
       "      <td>0</td>\n",
       "    </tr>\n",
       "    <tr>\n",
       "      <th>3</th>\n",
       "      <td>0.395003</td>\n",
       "      <td>0.376091</td>\n",
       "      <td>-0.733151</td>\n",
       "      <td>0.382222</td>\n",
       "      <td>-1.080123</td>\n",
       "      <td>-0.753156</td>\n",
       "      <td>0.349755</td>\n",
       "      <td>-0.556952</td>\n",
       "      <td>-0.240821</td>\n",
       "      <td>0.330957</td>\n",
       "      <td>-1.114714</td>\n",
       "      <td>-0.062375</td>\n",
       "      <td>1</td>\n",
       "    </tr>\n",
       "    <tr>\n",
       "      <th>4</th>\n",
       "      <td>0.695849</td>\n",
       "      <td>-0.256069</td>\n",
       "      <td>-1.320274</td>\n",
       "      <td>0.302018</td>\n",
       "      <td>0.925820</td>\n",
       "      <td>0.608158</td>\n",
       "      <td>-0.544112</td>\n",
       "      <td>-0.556955</td>\n",
       "      <td>-0.692088</td>\n",
       "      <td>0.574396</td>\n",
       "      <td>1.214835</td>\n",
       "      <td>-0.472381</td>\n",
       "      <td>1</td>\n",
       "    </tr>\n",
       "  </tbody>\n",
       "</table>\n",
       "</div>"
      ],
      "text/plain": [
       "   danceability    energy       key  loudness      mode  speechiness  \\\n",
       "0      0.769903 -0.055628  0.441095  0.417562 -1.080123    -0.843078   \n",
       "1      0.580139  0.248888  1.321780  0.235180 -1.080123     1.307549   \n",
       "2     -1.738685 -2.403485 -1.320274 -2.772810  0.925820    -0.891369   \n",
       "3      0.395003  0.376091 -0.733151  0.382222 -1.080123    -0.753156   \n",
       "4      0.695849 -0.256069 -1.320274  0.302018  0.925820     0.608158   \n",
       "\n",
       "   acousticness  instrumentalness  liveness   valence     tempo  duration_ms  \\\n",
       "0      0.412263         -0.554830 -0.458413  0.503237 -0.896670     1.266065   \n",
       "1     -0.353462         -0.556955 -0.541666  0.095009  1.079610     0.469229   \n",
       "2      2.103110          2.040507 -0.439492 -1.705687 -1.634621     1.022384   \n",
       "3      0.349755         -0.556952 -0.240821  0.330957 -1.114714    -0.062375   \n",
       "4     -0.544112         -0.556955 -0.692088  0.574396  1.214835    -0.472381   \n",
       "\n",
       "   liked  \n",
       "0      0  \n",
       "1      1  \n",
       "2      0  \n",
       "3      1  \n",
       "4      1  "
      ]
     },
     "execution_count": 11,
     "metadata": {},
     "output_type": "execute_result"
    }
   ],
   "source": [
    "df.head()"
   ]
  },
  {
   "cell_type": "code",
   "execution_count": 52,
   "id": "0001c7f5",
   "metadata": {},
   "outputs": [
    {
     "data": {
      "text/plain": [
       "((195, 12), (195,))"
      ]
     },
     "execution_count": 52,
     "metadata": {},
     "output_type": "execute_result"
    }
   ],
   "source": [
    "x, y = df.drop('liked',axis=1),df['liked']\n",
    "x.shape, y.shape"
   ]
  },
  {
   "cell_type": "code",
   "execution_count": 53,
   "id": "2ee5736b",
   "metadata": {},
   "outputs": [
    {
     "data": {
      "text/plain": [
       "((117, 12), (78, 12), (117,), (78,))"
      ]
     },
     "execution_count": 53,
     "metadata": {},
     "output_type": "execute_result"
    }
   ],
   "source": [
    "x_train,x_test,y_train,y_test = train_test_split(x, y, test_size=0.4, random_state=1)\n",
    "x_train.shape ,x_test.shape ,y_train.shape ,y_test.shape"
   ]
  },
  {
   "cell_type": "code",
   "execution_count": 64,
   "id": "b073526c",
   "metadata": {},
   "outputs": [],
   "source": [
    "model = keras.Sequential([\n",
    "    keras.layers.Dense(12, input_shape=(12,), activation='relu'),\n",
    "    keras.layers.Dense(7, activation='relu'),\n",
    "    keras.layers.Dense(1, activation='sigmoid'),\n",
    "\n",
    "])\n",
    "\n",
    "model.compile(\n",
    "    optimizer='adam',\n",
    "    loss='binary_crossentropy',\n",
    "    metrics=['accuracy']\n",
    "    \n",
    ")"
   ]
  },
  {
   "cell_type": "code",
   "execution_count": null,
   "id": "fcbee3f8",
   "metadata": {},
   "outputs": [],
   "source": [
    "model.fit(x_train, y_train, epochs=200)"
   ]
  },
  {
   "cell_type": "code",
   "execution_count": 67,
   "id": "cd791404",
   "metadata": {},
   "outputs": [
    {
     "name": "stdout",
     "output_type": "stream",
     "text": [
      "3/3 [==============================] - 0s 4ms/step - loss: 0.7550 - accuracy: 0.9231\n"
     ]
    },
    {
     "data": {
      "text/plain": [
       "[0.754991352558136, 0.9230769276618958]"
      ]
     },
     "execution_count": 67,
     "metadata": {},
     "output_type": "execute_result"
    }
   ],
   "source": [
    "model.evaluate(x_test, y_test)"
   ]
  },
  {
   "cell_type": "code",
   "execution_count": 68,
   "id": "56a4b7eb",
   "metadata": {},
   "outputs": [],
   "source": [
    "def predict(data):\n",
    "    pred = model.predict(data).flatten()\n",
    "    pred[pred >= 0.5] = 1\n",
    "    pred[pred < 0.5] = 0\n",
    "    return pred\n",
    "\n",
    "def plot_cm(y_true,y_pred,title=None):\n",
    "    cm = confusion_matrix(y_true, y_pred)\n",
    "    plt.figure(figsize=(10,10))\n",
    "    sns.heatmap(cm, annot=True, fmt='g',cmap='YlGnBu')\n",
    "    plt.title(title)\n",
    "    plt.show()"
   ]
  },
  {
   "cell_type": "code",
   "execution_count": 70,
   "id": "cb05ac3d",
   "metadata": {},
   "outputs": [
    {
     "name": "stdout",
     "output_type": "stream",
     "text": [
      "3/3 [==============================] - 0s 4ms/step\n"
     ]
    },
    {
     "data": {
      "image/png": "[encoded data removed]",
      "text/plain": [
       "<Figure size 720x720 with 2 Axes>"
      ]
     },
     "metadata": {
      "needs_background": "light"
     },
     "output_type": "display_data"
    }
   ],
   "source": [
    "y_pred_test = predict(x_test)\n",
    "plot_cm(y_test, y_pred_test)"
   ]
  },
  {
   "cell_type": "code",
   "execution_count": 112,
   "id": "af0b312b",
   "metadata": {},
   "outputs": [
    {
     "name": "stderr",
     "output_type": "stream",
     "text": [
      "WARNING:absl:Found untraced functions such as _update_step_xla while saving (showing 1 of 1). These functions will not be directly callable after loading.\n"
     ]
    },
    {
     "name": "stdout",
     "output_type": "stream",
     "text": [
      "INFO:tensorflow:Assets written to: model/Spotify_model\\assets\n"
     ]
    },
    {
     "name": "stderr",
     "output_type": "stream",
     "text": [
      "INFO:tensorflow:Assets written to: model/Spotify_model\\assets\n"
     ]
    }
   ],
   "source": [
    "model.save('model/Spotify_model')"
   ]
  },
  {
   "cell_type": "code",
   "execution_count": null,
   "id": "4042a906",
   "metadata": {},
   "outputs": [],
   "source": []
  }
 ],
 "metadata": {
  "kernelspec": {
   "display_name": "base",
   "language": "python",
   "name": "python3"
  },
  "language_info": {
   "codemirror_mode": {
    "name": "ipython",
    "version": 3
   },
   "file_extension": ".py",
   "mimetype": "text/x-python",
   "name": "python",
   "nbconvert_exporter": "python",
   "pygments_lexer": "ipython3",
   "version": "3.9.12 (main, Apr  4 2022, 05:22:27) [MSC v.1916 64 bit (AMD64)]"
  },
  "vscode": {
   "interpreter": {
    "hash": "4ff0ec57323315e8932dfa626f3d3de0cdca3fd060b4fcc8e1d04a93ed65db3a"
   }
  }
 },
 "nbformat": 4,
 "nbformat_minor": 5
}
